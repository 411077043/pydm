{
 "cells": [
  {
   "cell_type": "markdown",
   "id": "57cc500a",
   "metadata": {},
   "source": [
    "# Homework Big 2\n",
    "\n",
    "## Tech\n",
    "if-elif-else<br>\n",
    "tuple<br>\n",
    "list<br>\n",
    "dict<br>\n",
    "range<br>\n",
    "zip\n",
    "\n",
    "## 以大老二規則比較兩玩家各出一張撲克牌勝負\n",
    "player0 與 player1 各從莊家取得一張撲克牌進行比賽，比賽規則為：<br>\n",
    "<ol>\n",
    "    <li>先比數字，大小順序為 2 > 1 > 13 > 12 > 11 > 10 > 9 > 8 > 7 > 6 > 5 > 4 > 3，較大者獲勝\n",
    "    <li>若雙方數字相同則比較花色，大小順序為 SPADE > HEART > DIAMOND > CLUB，較大者獲勝\n",
    "</ol>\n",
    "隨機發牌程式如下，請協助比較兩玩家勝負"
   ]
  },
  {
   "cell_type": "code",
   "execution_count": null,
   "id": "78e0f455",
   "metadata": {},
   "outputs": [],
   "source": [
    "# 隨機發牌給 player0, player1\n",
    "from random import sample\n",
    "\n",
    "flowers = ['SPADE', 'HERAT', 'DIAMOND', 'CLUB']\n",
    "numbers = range(1, 14)\n",
    "\n",
    "#cards = []\n",
    "#for f in flowers:\n",
    "#    cards.extend(zip([f]*len(numbers), numbers))\n",
    "cards = list(zip(['SPADE']*len(numbers), numbers))\n",
    "cards.extend(zip(['HERAT']*len(numbers), numbers))\n",
    "cards.extend(zip(['DIAMOND']*len(numbers), numbers))\n",
    "cards.extend(zip(['CLUB']*len(numbers), numbers))\n",
    "\n",
    "player0, player1 = sample(cards, k=2)\n",
    "\n",
    "print(f'player0 {player0}, player1 {player1}')"
   ]
  },
  {
   "cell_type": "markdown",
   "id": "ffa7635a",
   "metadata": {},
   "source": [
    "## Solution"
   ]
  },
  {
   "cell_type": "code",
   "execution_count": null,
   "id": "7c50b9bf",
   "metadata": {},
   "outputs": [],
   "source": []
  }
 ],
 "metadata": {
  "kernelspec": {
   "display_name": "Python 3 (ipykernel)",
   "language": "python",
   "name": "python3"
  },
  "language_info": {
   "codemirror_mode": {
    "name": "ipython",
    "version": 3
   },
   "file_extension": ".py",
   "mimetype": "text/x-python",
   "name": "python",
   "nbconvert_exporter": "python",
   "pygments_lexer": "ipython3",
   "version": "3.8.10"
  }
 },
 "nbformat": 4,
 "nbformat_minor": 5
}
